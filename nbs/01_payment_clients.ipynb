{
 "cells": [
  {
   "cell_type": "code",
   "execution_count": 1,
   "metadata": {},
   "outputs": [],
   "source": [
    "#| default_exp payment_clients\n"
   ]
  },
  {
   "cell_type": "markdown",
   "metadata": {},
   "source": [
    "# payment clients\n",
    "\n",
    "> Payment clients are the interfaces and implementations that allow users to pay for L402 offers."
   ]
  },
  {
   "cell_type": "code",
   "execution_count": 2,
   "metadata": {},
   "outputs": [],
   "source": [
    "#| export\n",
    "\n",
    "from abc import ABC, abstractmethod\n",
    "from datetime import datetime\n",
    "from typing import List, Dict, Any\n",
    "\n",
    "from fastcore.utils import *\n",
    "import fastcore.basics as fc\n",
    "import os\n",
    "import json\n",
    "from l402.payment_providers import *\n",
    "from l402.utils import *\n",
    "import httpx\n",
    "from pydantic import BaseModel\n"
   ]
  },
  {
   "cell_type": "code",
   "execution_count": 3,
   "metadata": {},
   "outputs": [],
   "source": [
    "chain = 'base-mainnet'"
   ]
  },
  {
   "cell_type": "code",
   "execution_count": 4,
   "metadata": {},
   "outputs": [],
   "source": [
    "#| export\n",
    "\n",
    "class PaymentProvider(ABC):\n",
    "    \"\"\"Base class for all payment providers\"\"\"\n",
    "    supported_methods: list[str] = []  # Will be overridden by each provider\n",
    "    \n",
    "    @abstractmethod\n",
    "    def pay(self, *args, **kwargs):\n",
    "        pass\n",
    "\n",
    "class PaymentRequest(BaseModel):\n",
    "    \"\"\"Represents a payment request to get payment details from a payment provider\"\"\"\n",
    "    offer_id: str\n",
    "    payment_context_token: str\n",
    "    payment_method: str\n",
    "    chain: str = \"\"\n",
    "    asset: str = \"\"\n"
   ]
  },
  {
   "cell_type": "code",
   "execution_count": 5,
   "metadata": {},
   "outputs": [],
   "source": [
    "# from l402.utils import *\n",
    "\n",
    "# run_l402_server(PaymentRequest, port=9000)"
   ]
  },
  {
   "cell_type": "markdown",
   "metadata": {},
   "source": [
    "## Coinbase Provider"
   ]
  },
  {
   "cell_type": "code",
   "execution_count": 6,
   "metadata": {},
   "outputs": [],
   "source": [
    "#| export\n",
    "\n",
    "from cdp import *\n",
    "\n",
    "class CoinbaseProvider(fc.BasicRepr):\n",
    "    def __init__(self, wallet: Wallet,\n",
    "                asset: str = 'usdc'):\n",
    "        store_attr()\n",
    "        self.supported_methods=[\"onchain\"]\n",
    "        self.chain = self.wallet.network_id\n",
    "\n",
    "    # NOTE: in the fewsats example, we will return an async taskID\n",
    "    def pay(self,\n",
    "            amount: float,\n",
    "            address: str,\n",
    "            asset: str):\n",
    "        # TODO, return a generic async task \n",
    "        return self.wallet.transfer(amount, asset, address).wait()"
   ]
  },
  {
   "cell_type": "code",
   "execution_count": 7,
   "metadata": {},
   "outputs": [
    {
     "data": {
      "text/plain": [
       "CoinbaseProvider(wallet=Wallet: (id: 7faea66f-c79e-4569-8ab5-acbf576490d1, network_id: base-mainnet, server_signer_status: None), asset='usdc', supported_methods=['onchain'], chain='base-mainnet')"
      ]
     },
     "execution_count": 7,
     "metadata": {},
     "output_type": "execute_result"
    }
   ],
   "source": [
    "c = CoinbaseProvider(wallet=create_test_wallet(fund=False, chain=chain))\n",
    "c"
   ]
  },
  {
   "cell_type": "code",
   "execution_count": 8,
   "metadata": {},
   "outputs": [
    {
     "data": {
      "text/plain": [
       "(402,\n",
       " '{\"offers\":[{\"amount\":1,\"currency\":\"USD\",\"description\":\"Purchase 1 credit for API access\",\"offer_id\":\"11dee90e-8cb2-47c9-8a89-0f1d76b41c68\",\"payment_methods\":[\"onchain\"],\"title\":\"1 Credit Package\",\"type\":\"one-time\"}],\"payment_context_token\":\"0e424aff-241a-4414-872b-f8176b16846a\",\"payment_request_url\":\"http://localhost:9000/payment_request\",\"version\":\"0.2.2\"}')"
      ]
     },
     "execution_count": 8,
     "metadata": {},
     "output_type": "execute_result"
    }
   ],
   "source": [
    "r = httpx.get('http://localhost:9000/offers')\n",
    "r.status_code, r.text\n"
   ]
  },
  {
   "cell_type": "code",
   "execution_count": 9,
   "metadata": {},
   "outputs": [
    {
     "data": {
      "text/plain": [
       "(402,\n",
       " {'offers': [{'amount': 1,\n",
       "    'currency': 'USD',\n",
       "    'description': 'Purchase 1 credit for API access',\n",
       "    'offer_id': '11dee90e-8cb2-47c9-8a89-0f1d76b41c68',\n",
       "    'payment_methods': ['onchain'],\n",
       "    'title': '1 Credit Package',\n",
       "    'type': 'one-time'}],\n",
       "  'payment_context_token': '0e424aff-241a-4414-872b-f8176b16846a',\n",
       "  'payment_request_url': 'http://localhost:9000/payment_request',\n",
       "  'version': '0.2.2'})"
      ]
     },
     "execution_count": 9,
     "metadata": {},
     "output_type": "execute_result"
    }
   ],
   "source": [
    "o = r.json()\n",
    "r.status_code, o"
   ]
  },
  {
   "cell_type": "code",
   "execution_count": 10,
   "metadata": {},
   "outputs": [
    {
     "data": {
      "text/plain": [
       "(200,\n",
       " '{\"expires_at\":\"2025-01-25T02:55:04.077807+00:00\",\"offer_id\":\"11dee90e-8cb2-47c9-8a89-0f1d76b41c68\",\"payment_request\":{\"address\":\"0xff2BF23F87809E3E3456C2b4a00a8D8e78957052\",\"chain\":\"base-mainnet\",\"asset\":\"usdc\"},\"version\":\"0.2.2\"}')"
      ]
     },
     "execution_count": 10,
     "metadata": {},
     "output_type": "execute_result"
    }
   ],
   "source": [
    "data = {\n",
    "    \"offer_id\": first(o['offers'])['offer_id'],\n",
    "    \"payment_method\": 'onchain',\n",
    "    \"chain\": chain,\n",
    "    \"asset\": 'usdc',\n",
    "    \"payment_context_token\": o['payment_context_token']\n",
    "    }\n",
    "r = httpx.post(o['payment_request_url'], json=data)\n",
    "r.status_code, r.text"
   ]
  },
  {
   "cell_type": "code",
   "execution_count": 11,
   "metadata": {},
   "outputs": [],
   "source": [
    "#| export\n",
    "\n",
    "def get_payment_request(payment_request_url: str,\n",
    "                        payment_context_token: str,\n",
    "                        offer_id: str, \n",
    "                        payment_method: str, \n",
    "                        chain: str = \"\", \n",
    "                        asset: str = \"\"):\n",
    "    data = {\n",
    "        \"offer_id\": offer_id,\n",
    "        \"payment_method\": payment_method,\n",
    "        \"chain\": chain,\n",
    "        \"asset\": asset,\n",
    "        \"payment_context_token\": payment_context_token\n",
    "    }\n",
    "    r = httpx.post(payment_request_url, json=data)\n",
    "    r.raise_for_status()\n",
    "    return r.json()\n"
   ]
  },
  {
   "cell_type": "code",
   "execution_count": 12,
   "metadata": {},
   "outputs": [
    {
     "data": {
      "text/plain": [
       "{'expires_at': '2025-01-25T02:55:04.596581+00:00',\n",
       " 'offer_id': '11dee90e-8cb2-47c9-8a89-0f1d76b41c68',\n",
       " 'payment_request': {'address': '0x58e4daaC484adA3D4ff9C78fCaAb072CDEeD9a8e',\n",
       "  'chain': 'base-mainnet',\n",
       "  'asset': 'usdc'},\n",
       " 'version': '0.2.2'}"
      ]
     },
     "execution_count": 12,
     "metadata": {},
     "output_type": "execute_result"
    }
   ],
   "source": [
    "r = get_payment_request(o['payment_request_url'], o['payment_context_token'], o['offers'][0]['offer_id'], 'onchain', chain, 'usdc')\n",
    "r\n"
   ]
  },
  {
   "cell_type": "code",
   "execution_count": 13,
   "metadata": {},
   "outputs": [],
   "source": [
    "#| export\n",
    "\n",
    "class Client(fc.BasicRepr):\n",
    "    def __init__(self, lightning_provider = None, \n",
    "                 credit_card_provider = None, \n",
    "                 onchain_provider = None):\n",
    "        store_attr()\n",
    "        self.lightning_provider = lightning_provider\n",
    "        self.credit_card_provider = credit_card_provider\n",
    "        self.onchain_provider = onchain_provider\n",
    "\n",
    "\n",
    "    def pay(self, ofr: dict): # ofr is the l402 offers response dictionary\n",
    "        \"Pay for an offer\"\n",
    "        # this actually does 3 things\n",
    "        # 1. Selects offer\n",
    "        # 2. Gets payment request details\n",
    "        # 3. Uses user-provided payment method\n",
    "        \n",
    "        ofr = L402Response(**ofr)\n",
    "        if len(ofr.offers) != 1: raise ValueError(\"Only one offer is supported\")\n",
    "        o = first(ofr.offers)\n",
    "\n",
    "        if 'onchain' in o.payment_methods and self.onchain_provider:\n",
    "            r = get_payment_request(ofr.payment_request_url, ofr.payment_context_token, o.offer_id, 'onchain', self.onchain_provider.chain, self.onchain_provider.asset)\n",
    "\n",
    "            return self.onchain_provider.pay(o.amount, r['payment_request']['address'], r['payment_request']['asset'])\n",
    "            \n",
    "        # elif 'lightning' in o.payment_methods and self.lightning_provider:\n",
    "        # elif 'credit_card' in o.payment_methods and self.credit_card_provider:\n",
    "        else:\n",
    "            raise ValueError(f\"No payment provider available for {ofr.offers[0].payment_methods}\")\n"
   ]
  },
  {
   "cell_type": "code",
   "execution_count": 14,
   "metadata": {},
   "outputs": [
    {
     "name": "stdout",
     "output_type": "stream",
     "text": [
      "Insufficient funds: have 0, need 1.\n"
     ]
    }
   ],
   "source": [
    "w = create_test_wallet(fund=False, chain=chain)\n",
    "c = Client(onchain_provider=CoinbaseProvider(wallet=w, asset='usdc'))\n",
    "try:\n",
    "    c.pay(o)\n",
    "except Exception as e:\n",
    "    print(e)\n"
   ]
  },
  {
   "cell_type": "markdown",
   "metadata": {},
   "source": [
    "## Fewsats Client"
   ]
  },
  {
   "cell_type": "code",
   "execution_count": 15,
   "metadata": {},
   "outputs": [],
   "source": [
    "#| export\n",
    "\n",
    "# class PaymentStatus:\n",
    "#     PENDING = \"pending\"\n",
    "#     COMPLETED = \"completed\"\n",
    "#     FAILED = \"failed\"\n",
    "#     EXPIRED = \"expired\"\n",
    "\n",
    "#| export\n",
    "\n",
    "class Fewsats:\n",
    "    def __init__(self, api_key: str = None, base_url: str = \"https://hub-5n97k.ondigitalocean.app\"):\n",
    "        self.api_key = api_key or os.environ.get(\"FEWSATS_API_KEY\")\n",
    "        if not self.api_key:\n",
    "            raise ValueError(\"API key not provided and FEWSATS_API_KEY environment variable is not set\")\n",
    "        self.base_url = base_url\n",
    "        self.client = httpx.Client()\n",
    "        self.client.headers.update({\"Authorization\": f\"Token {self.api_key}\"})\n",
    "\n",
    "\n",
    "    def _request(self, method: str, endpoint: str, **kwargs) -> Dict[str, Any]:\n",
    "        url = f\"{self.base_url}/{endpoint}\"\n",
    "        response = self.client.request(method, url, **kwargs)\n",
    "        response.raise_for_status()\n",
    "        return response.json()\n",
    "\n",
    "    def get_payment_methods(self) -> List[Dict[str, Any]]:\n",
    "        \"\"\"Retrieve the user's payment methods.\n",
    "        \n",
    "        Returns:\n",
    "            List[Dict[str, Any]]: A list of payment methods associated with the user's account.\n",
    "        \"\"\"\n",
    "        return self._request(\"GET\", \"v0/stripe/payment-methods\")\n",
    "\n",
    "\n",
    "    def pay(self, ofr: dict):\n",
    "        data = {\n",
    "            \"payment_request_url\": ofr[\"payment_request_url\"],\n",
    "            \"payment_context_token\": ofr[\"payment_context_token\"],\n",
    "            \"payment_method\": \"onchain\",\n",
    "            \"offer\": first(ofr[\"offers\"])\n",
    "        }\n",
    "        print(data)\n",
    "        print(self.base_url)\n",
    "        print(self.api_key)\n",
    "        return self._request(\"POST\", \"v0/l402/purchases/from-offer\", json=data)"
   ]
  },
  {
   "cell_type": "code",
   "execution_count": 16,
   "metadata": {},
   "outputs": [
    {
     "data": {
      "text/plain": [
       "[{'id': 1,\n",
       "  'last4': '4242',\n",
       "  'brand': 'visa',\n",
       "  'exp_month': 12,\n",
       "  'exp_year': 2034,\n",
       "  'is_default': False},\n",
       " {'id': 4,\n",
       "  'last4': '4242',\n",
       "  'brand': 'Visa',\n",
       "  'exp_month': 12,\n",
       "  'exp_year': 2034,\n",
       "  'is_default': True}]"
      ]
     },
     "execution_count": 16,
     "metadata": {},
     "output_type": "execute_result"
    }
   ],
   "source": [
    "f = Fewsats(base_url='http://localhost:8000', api_key='yQbJPudW-nqiTyx880t8G83oLGyoR-RlnrLDmEe0D58')\n",
    "f.get_payment_methods()\n"
   ]
  },
  {
   "cell_type": "code",
   "execution_count": 17,
   "metadata": {},
   "outputs": [
    {
     "name": "stdout",
     "output_type": "stream",
     "text": [
      "{'payment_request_url': 'http://localhost:9000/payment_request', 'payment_context_token': '0e424aff-241a-4414-872b-f8176b16846a', 'payment_method': 'onchain', 'offer': {'amount': 1, 'currency': 'USD', 'description': 'Purchase 1 credit for API access', 'offer_id': '11dee90e-8cb2-47c9-8a89-0f1d76b41c68', 'payment_methods': ['onchain'], 'title': '1 Credit Package', 'type': 'one-time'}}\n",
      "http://localhost:8000\n",
      "yQbJPudW-nqiTyx880t8G83oLGyoR-RlnrLDmEe0D58\n",
      "Server error '500 Internal Server Error' for url 'http://localhost:8000/v0/l402/purchases/from-offer'\n",
      "For more information check: https://developer.mozilla.org/en-US/docs/Web/HTTP/Status/500\n"
     ]
    }
   ],
   "source": [
    "try:\n",
    "    f.pay(o)\n",
    "except Exception as e:\n",
    "    print(e)"
   ]
  },
  {
   "cell_type": "code",
   "execution_count": 18,
   "metadata": {},
   "outputs": [],
   "source": [
    "#| export\n",
    "\n",
    "@patch\n",
    "def _pay_onchain(self: Fewsats, address: str,\n",
    "                    amount: str,\n",
    "                    chain: str = '',\n",
    "                    asset: str = ''):\n",
    "    data = {\n",
    "        \"address\": address,\n",
    "        \"amount\": str(amount),\n",
    "        \"chain\": chain,\n",
    "        \"asset\": asset,\n",
    "    }\n",
    "    print(data)\n",
    "    return self._request(\"POST\", \"v0/l402/purchases/onchain\", json=data)\n"
   ]
  },
  {
   "cell_type": "code",
   "execution_count": 19,
   "metadata": {},
   "outputs": [
    {
     "name": "stdout",
     "output_type": "stream",
     "text": [
      "{'address': '0x58e4daaC484adA3D4ff9C78fCaAb072CDEeD9a8e', 'amount': '0.000001', 'chain': 'base-mainnet', 'asset': 'usdc'}\n"
     ]
    }
   ],
   "source": [
    "try:\n",
    "    f._pay_onchain(address=r['payment_request']['address'], amount=\"0.000001\", chain='base-mainnet', asset='usdc')\n",
    "except Exception as e:\n",
    "    print(e)"
   ]
  },
  {
   "cell_type": "code",
   "execution_count": 20,
   "metadata": {},
   "outputs": [
    {
     "data": {
      "text/plain": [
       "({'offers': [{'amount': 1,\n",
       "    'currency': 'USD',\n",
       "    'description': 'Purchase 1 credit for API access',\n",
       "    'offer_id': '11dee90e-8cb2-47c9-8a89-0f1d76b41c68',\n",
       "    'payment_methods': ['onchain'],\n",
       "    'title': '1 Credit Package',\n",
       "    'type': 'one-time'}],\n",
       "  'payment_context_token': '0e424aff-241a-4414-872b-f8176b16846a',\n",
       "  'payment_request_url': 'http://localhost:9000/payment_request',\n",
       "  'version': '0.2.2'},\n",
       " {'expires_at': '2025-01-25T02:55:04.596581+00:00',\n",
       "  'offer_id': '11dee90e-8cb2-47c9-8a89-0f1d76b41c68',\n",
       "  'payment_request': {'address': '0x58e4daaC484adA3D4ff9C78fCaAb072CDEeD9a8e',\n",
       "   'chain': 'base-mainnet',\n",
       "   'asset': 'usdc'},\n",
       "  'version': '0.2.2'})"
      ]
     },
     "execution_count": 20,
     "metadata": {},
     "output_type": "execute_result"
    }
   ],
   "source": [
    "o, r"
   ]
  },
  {
   "cell_type": "code",
   "execution_count": null,
   "metadata": {},
   "outputs": [],
   "source": []
  }
 ],
 "metadata": {
  "kernelspec": {
   "display_name": "venv",
   "language": "python",
   "name": "python3"
  },
  "language_info": {
   "codemirror_mode": {
    "name": "ipython",
    "version": 3
   },
   "file_extension": ".py",
   "mimetype": "text/x-python",
   "name": "python",
   "nbconvert_exporter": "python",
   "pygments_lexer": "ipython3",
   "version": "3.12.3"
  }
 },
 "nbformat": 4,
 "nbformat_minor": 2
}
