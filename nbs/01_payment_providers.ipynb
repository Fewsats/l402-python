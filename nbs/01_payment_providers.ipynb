{
 "cells": [
  {
   "cell_type": "code",
   "execution_count": 1,
   "metadata": {},
   "outputs": [],
   "source": [
    "#| default_exp payment_providers\n"
   ]
  },
  {
   "cell_type": "markdown",
   "metadata": {},
   "source": [
    "# payment providers\n",
    "\n",
    "> Payment providers are the interfaces and implementations for payment methods."
   ]
  },
  {
   "cell_type": "code",
   "execution_count": 2,
   "metadata": {},
   "outputs": [],
   "source": [
    "#| export\n",
    "\n",
    "from abc import ABC, abstractmethod\n",
    "from datetime import datetime\n",
    "from typing import Optional, TypedDict\n",
    "\n",
    "from fastcore.utils import *\n",
    "import fastcore.basics as fc\n",
    "import os\n",
    "import json\n",
    "from l402.core import *\n",
    "from l402.utils import *\n",
    "import httpx\n",
    "from pydantic import BaseModel\n"
   ]
  },
  {
   "cell_type": "code",
   "execution_count": 3,
   "metadata": {},
   "outputs": [],
   "source": [
    "#| export\n",
    "\n",
    "class PaymentProvider(ABC):\n",
    "    \"\"\"Base class for all payment providers\"\"\"\n",
    "    supported_methods: list[str] = []  # Will be overridden by each provider\n",
    "    \n",
    "    @abstractmethod\n",
    "    def pay(self, *args, **kwargs):\n",
    "        pass\n"
   ]
  },
  {
   "cell_type": "markdown",
   "metadata": {},
   "source": [
    "## Coinbase Provider"
   ]
  },
  {
   "cell_type": "code",
   "execution_count": 4,
   "metadata": {},
   "outputs": [],
   "source": [
    "#| export\n",
    "\n",
    "from cdp import *\n",
    "\n",
    "class CoinbaseProvider(fc.BasicRepr):\n",
    "    def __init__(self, wallet: Wallet,\n",
    "                asset: str = 'usdc'):\n",
    "        store_attr()\n",
    "        self.supported_methods=[\"onchain\"]\n",
    "        self.chain = self.wallet.network_id\n",
    "\n",
    "    # NOTE: in the fewsats example, we will return an async taskID\n",
    "    def pay(self,\n",
    "            amount: float,\n",
    "            address: str,\n",
    "            asset: str):\n",
    "        # TODO, return a generic async task \n",
    "        return self.wallet.transfer(amount, asset, address).wait()"
   ]
  },
  {
   "cell_type": "code",
   "execution_count": 5,
   "metadata": {},
   "outputs": [
    {
     "data": {
      "text/plain": [
       "CoinbaseProvider(wallet=None, chain='base-mainnet', asset='usdc', supported_methods=['onchain'])"
      ]
     },
     "execution_count": 5,
     "metadata": {},
     "output_type": "execute_result"
    }
   ],
   "source": [
    "c = CoinbaseProvider(wallet=None)\n",
    "c"
   ]
  },
  {
   "cell_type": "code",
   "execution_count": 6,
   "metadata": {},
   "outputs": [],
   "source": [
    "#| export\n",
    "\n",
    "class PaymentRequest(BaseModel):\n",
    "    \"\"\"Represents a payment request to get payment details from a payment provider\"\"\"\n",
    "    offer_id: str\n",
    "    payment_context_token: str\n",
    "    payment_method: str\n",
    "    chain: str = \"\"\n",
    "    asset: str = \"\"\n",
    "\n",
    "# class PaymentStatus:\n",
    "#     PENDING = \"pending\"\n",
    "#     COMPLETED = \"completed\"\n",
    "#     FAILED = \"failed\"\n",
    "#     EXPIRED = \"expired\"\n"
   ]
  },
  {
   "cell_type": "code",
   "execution_count": 7,
   "metadata": {},
   "outputs": [
    {
     "data": {
      "text/plain": [
       "(402,\n",
       " {'offers': [{'amount': 1,\n",
       "    'currency': 'USD',\n",
       "    'description': 'Purchase 1 credit for API access',\n",
       "    'offer_id': 'ed40e2e3-3f30-46c3-b15b-f9d080e7d0e9',\n",
       "    'payment_methods': ['onchain'],\n",
       "    'title': '1 Credit Package',\n",
       "    'type': 'one-time'}],\n",
       "  'payment_context_token': 'f213d14b-b228-41a4-b72b-6c1e781f8f6c',\n",
       "  'payment_request_url': 'http://localhost:8000/payment_request',\n",
       "  'version': '0.2.2'})"
      ]
     },
     "execution_count": 7,
     "metadata": {},
     "output_type": "execute_result"
    }
   ],
   "source": [
    "r = httpx.get('http://localhost:8000/offers')\n",
    "o = r.json()\n",
    "r.status_code, o"
   ]
  },
  {
   "cell_type": "code",
   "execution_count": 8,
   "metadata": {},
   "outputs": [
    {
     "data": {
      "text/plain": [
       "(200,\n",
       " '{\"expires_at\":\"2025-01-23T20:08:09.556058+00:00\",\"offer_id\":\"ed40e2e3-3f30-46c3-b15b-f9d080e7d0e9\",\"payment_request\":{\"address\":\"0x733f47d88ca38219dd09885532bBddDd9bcCAd67\",\"chain\":\"base-sepolia\",\"asset\":\"usdc\"},\"version\":\"0.2.2\"}')"
      ]
     },
     "execution_count": 8,
     "metadata": {},
     "output_type": "execute_result"
    }
   ],
   "source": [
    "data = {\n",
    "    \"offer_id\": first(o['offers'])['offer_id'],\n",
    "    \"payment_method\": 'onchain',\n",
    "    \"chain\": \"base-sepolia\",\n",
    "    \"payment_context_token\": o['payment_context_token']\n",
    "    }\n",
    "r = httpx.post(o['payment_request_url'], json=data)\n",
    "r.status_code, r.text"
   ]
  },
  {
   "cell_type": "code",
   "execution_count": 15,
   "metadata": {},
   "outputs": [],
   "source": [
    "#| export\n",
    "\n",
    "def get_payment_request(payment_request_url: str,\n",
    "                        payment_context_token: str,\n",
    "                        offer_id: str, \n",
    "                        payment_method: str, \n",
    "                        chain: str = \"\", \n",
    "                        asset: str = \"\"):\n",
    "    data = {\n",
    "        \"offer_id\": offer_id,\n",
    "        \"payment_method\": payment_method,\n",
    "        \"chain\": chain,\n",
    "        \"asset\": asset,\n",
    "        \"payment_context_token\": payment_context_token\n",
    "    }\n",
    "    r = httpx.post(payment_request_url, json=data)\n",
    "    r.raise_for_status()\n",
    "    return r.json()\n"
   ]
  },
  {
   "cell_type": "code",
   "execution_count": 16,
   "metadata": {},
   "outputs": [
    {
     "name": "stdout",
     "output_type": "stream",
     "text": [
      "http://localhost:8000/payment_request f213d14b-b228-41a4-b72b-6c1e781f8f6c ed40e2e3-3f30-46c3-b15b-f9d080e7d0e9 onchain base-sepolia usdc\n"
     ]
    },
    {
     "data": {
      "text/plain": [
       "{'expires_at': '2025-01-23T20:39:14.352877+00:00',\n",
       " 'offer_id': 'ed40e2e3-3f30-46c3-b15b-f9d080e7d0e9',\n",
       " 'payment_request': {'address': '0x32323E517Edfd5646eCc2Ff953e4087850994Dbe',\n",
       "  'chain': 'base-sepolia',\n",
       "  'asset': 'usdc'},\n",
       " 'version': '0.2.2'}"
      ]
     },
     "execution_count": 16,
     "metadata": {},
     "output_type": "execute_result"
    }
   ],
   "source": [
    "r = get_payment_request(o['payment_request_url'], o['payment_context_token'], o['offers'][0]['offer_id'], 'onchain', 'base-sepolia', 'usdc')\n",
    "r\n"
   ]
  },
  {
   "cell_type": "code",
   "execution_count": 20,
   "metadata": {},
   "outputs": [],
   "source": [
    "#| export\n",
    "\n",
    "class Client(fc.BasicRepr):\n",
    "    def __init__(self, lightning_provider = None, \n",
    "                 credit_card_provider = None, \n",
    "                 onchain_provider = None):\n",
    "        store_attr()\n",
    "        self.lightning_provider = lightning_provider\n",
    "        self.credit_card_provider = credit_card_provider\n",
    "        self.onchain_provider = onchain_provider\n",
    "\n",
    "\n",
    "    def pay(self, ofr: dict): # ofr is the l402 offers response dictionary\n",
    "        \"Pay for an offer\"\n",
    "        # this actually does 3 things\n",
    "        # 1. Selects offer\n",
    "        # 2. Gets payment request details\n",
    "        # 3. Uses user-provided payment method\n",
    "        \n",
    "        ofr = L402Response(**ofr)\n",
    "        if len(ofr.offers) != 1: raise ValueError(\"Only one offer is supported\")\n",
    "        o = first(ofr.offers)\n",
    "\n",
    "        if 'onchain' in o.payment_methods and self.onchain_provider:\n",
    "            r = get_payment_request(ofr.payment_request_url, ofr.payment_context_token, o.offer_id, 'onchain', self.onchain_provider.chain, self.onchain_provider.asset)\n",
    "\n",
    "            return self.onchain_provider.pay(o.amount, r['payment_request']['address'], r['payment_request']['asset'])\n",
    "            \n",
    "        # elif 'lightning' in o.payment_methods and self.lightning_provider:\n",
    "        # elif 'credit_card' in o.payment_methods and self.credit_card_provider:\n",
    "        else:\n",
    "            raise ValueError(f\"No payment provider available for {ofr.offers[0].payment_methods}\")\n"
   ]
  },
  {
   "cell_type": "code",
   "execution_count": 23,
   "metadata": {},
   "outputs": [
    {
     "name": "stdout",
     "output_type": "stream",
     "text": [
      "ofr offers=[Offer(amount=1, currency='USD', description='Purchase 1 credit for API access', offer_id='ed40e2e3-3f30-46c3-b15b-f9d080e7d0e9', payment_methods=['onchain'], title='1 Credit Package', type='one-time')] payment_context_token='f213d14b-b228-41a4-b72b-6c1e781f8f6c' payment_request_url='http://localhost:8000/payment_request' version='0.2.2'\n",
      "o amount=1 currency='USD' description='Purchase 1 credit for API access' offer_id='ed40e2e3-3f30-46c3-b15b-f9d080e7d0e9' payment_methods=['onchain'] title='1 Credit Package' type='one-time'\n",
      "o.payment_methods ['onchain']\n",
      "http://localhost:8000/payment_request f213d14b-b228-41a4-b72b-6c1e781f8f6c ed40e2e3-3f30-46c3-b15b-f9d080e7d0e9 onchain base-sepolia usdc\n"
     ]
    },
    {
     "ename": "InsufficientFundsError",
     "evalue": "Insufficient funds: have 0, need 1.",
     "output_type": "error",
     "traceback": [
      "\u001b[0;31m---------------------------------------------------------------------------\u001b[0m",
      "\u001b[0;31mInsufficientFundsError\u001b[0m                    Traceback (most recent call last)",
      "Cell \u001b[0;32mIn[23], line 3\u001b[0m\n\u001b[1;32m      1\u001b[0m w \u001b[38;5;241m=\u001b[39m create_test_wallet(fund\u001b[38;5;241m=\u001b[39m\u001b[38;5;28;01mFalse\u001b[39;00m)\n\u001b[1;32m      2\u001b[0m c \u001b[38;5;241m=\u001b[39m Client(onchain_provider\u001b[38;5;241m=\u001b[39mCoinbaseProvider(wallet\u001b[38;5;241m=\u001b[39mw, chain\u001b[38;5;241m=\u001b[39m\u001b[38;5;124m'\u001b[39m\u001b[38;5;124mbase-sepolia\u001b[39m\u001b[38;5;124m'\u001b[39m, asset\u001b[38;5;241m=\u001b[39m\u001b[38;5;124m'\u001b[39m\u001b[38;5;124musdc\u001b[39m\u001b[38;5;124m'\u001b[39m))\n\u001b[0;32m----> 3\u001b[0m \u001b[43mc\u001b[49m\u001b[38;5;241;43m.\u001b[39;49m\u001b[43mpay\u001b[49m\u001b[43m(\u001b[49m\u001b[43mo\u001b[49m\u001b[43m)\u001b[49m\n",
      "Cell \u001b[0;32mIn[20], line 29\u001b[0m, in \u001b[0;36mClient.pay\u001b[0;34m(self, ofr)\u001b[0m\n\u001b[1;32m     27\u001b[0m     r \u001b[38;5;241m=\u001b[39m get_payment_request(ofr\u001b[38;5;241m.\u001b[39mpayment_request_url, ofr\u001b[38;5;241m.\u001b[39mpayment_context_token, o\u001b[38;5;241m.\u001b[39moffer_id, \u001b[38;5;124m'\u001b[39m\u001b[38;5;124monchain\u001b[39m\u001b[38;5;124m'\u001b[39m, \u001b[38;5;28mself\u001b[39m\u001b[38;5;241m.\u001b[39monchain_provider\u001b[38;5;241m.\u001b[39mchain, \u001b[38;5;28mself\u001b[39m\u001b[38;5;241m.\u001b[39monchain_provider\u001b[38;5;241m.\u001b[39masset)\n\u001b[1;32m     28\u001b[0m     \u001b[38;5;66;03m# TODO: return a generic async task\u001b[39;00m\n\u001b[0;32m---> 29\u001b[0m     \u001b[38;5;28;01mreturn\u001b[39;00m \u001b[38;5;28;43mself\u001b[39;49m\u001b[38;5;241;43m.\u001b[39;49m\u001b[43monchain_provider\u001b[49m\u001b[38;5;241;43m.\u001b[39;49m\u001b[43mpay\u001b[49m\u001b[43m(\u001b[49m\u001b[43mo\u001b[49m\u001b[38;5;241;43m.\u001b[39;49m\u001b[43mamount\u001b[49m\u001b[43m,\u001b[49m\u001b[43m \u001b[49m\u001b[43mr\u001b[49m\u001b[43m[\u001b[49m\u001b[38;5;124;43m'\u001b[39;49m\u001b[38;5;124;43mpayment_request\u001b[39;49m\u001b[38;5;124;43m'\u001b[39;49m\u001b[43m]\u001b[49m\u001b[43m[\u001b[49m\u001b[38;5;124;43m'\u001b[39;49m\u001b[38;5;124;43maddress\u001b[39;49m\u001b[38;5;124;43m'\u001b[39;49m\u001b[43m]\u001b[49m\u001b[43m,\u001b[49m\u001b[43m \u001b[49m\u001b[43mr\u001b[49m\u001b[43m[\u001b[49m\u001b[38;5;124;43m'\u001b[39;49m\u001b[38;5;124;43mpayment_request\u001b[39;49m\u001b[38;5;124;43m'\u001b[39;49m\u001b[43m]\u001b[49m\u001b[43m[\u001b[49m\u001b[38;5;124;43m'\u001b[39;49m\u001b[38;5;124;43masset\u001b[39;49m\u001b[38;5;124;43m'\u001b[39;49m\u001b[43m]\u001b[49m\u001b[43m)\u001b[49m\n\u001b[1;32m     31\u001b[0m \u001b[38;5;66;03m# elif 'lightning' in o.payment_methods and self.lightning_provider:\u001b[39;00m\n\u001b[1;32m     32\u001b[0m \u001b[38;5;66;03m# elif 'credit_card' in o.payment_methods and self.credit_card_provider:\u001b[39;00m\n\u001b[1;32m     33\u001b[0m \u001b[38;5;28;01melse\u001b[39;00m:\n\u001b[1;32m     34\u001b[0m     \u001b[38;5;28;01mraise\u001b[39;00m \u001b[38;5;167;01mValueError\u001b[39;00m(\u001b[38;5;124mf\u001b[39m\u001b[38;5;124m\"\u001b[39m\u001b[38;5;124mNo payment provider available for \u001b[39m\u001b[38;5;132;01m{\u001b[39;00mofr\u001b[38;5;241m.\u001b[39moffers[\u001b[38;5;241m0\u001b[39m]\u001b[38;5;241m.\u001b[39mpayment_methods\u001b[38;5;132;01m}\u001b[39;00m\u001b[38;5;124m\"\u001b[39m)\n",
      "Cell \u001b[0;32mIn[4], line 17\u001b[0m, in \u001b[0;36mCoinbaseProvider.pay\u001b[0;34m(self, amount, address, asset)\u001b[0m\n\u001b[1;32m     12\u001b[0m \u001b[38;5;28;01mdef\u001b[39;00m\u001b[38;5;250m \u001b[39m\u001b[38;5;21mpay\u001b[39m(\u001b[38;5;28mself\u001b[39m,\n\u001b[1;32m     13\u001b[0m         amount: \u001b[38;5;28mfloat\u001b[39m,\n\u001b[1;32m     14\u001b[0m         address: \u001b[38;5;28mstr\u001b[39m,\n\u001b[1;32m     15\u001b[0m         asset: \u001b[38;5;28mstr\u001b[39m):\n\u001b[1;32m     16\u001b[0m     \u001b[38;5;66;03m# TODO, return a generic async task \u001b[39;00m\n\u001b[0;32m---> 17\u001b[0m     \u001b[38;5;28;01mreturn\u001b[39;00m \u001b[38;5;28;43mself\u001b[39;49m\u001b[38;5;241;43m.\u001b[39;49m\u001b[43mwallet\u001b[49m\u001b[38;5;241;43m.\u001b[39;49m\u001b[43mtransfer\u001b[49m\u001b[43m(\u001b[49m\u001b[43mamount\u001b[49m\u001b[43m,\u001b[49m\u001b[43m \u001b[49m\u001b[43masset\u001b[49m\u001b[43m,\u001b[49m\u001b[43m \u001b[49m\u001b[43maddress\u001b[49m\u001b[43m)\u001b[49m\u001b[38;5;241m.\u001b[39mwait()\n",
      "File \u001b[0;32m~/go/github.com/Fewsats/l402-python/venv/lib/python3.12/site-packages/cdp/wallet.py:466\u001b[0m, in \u001b[0;36mWallet.transfer\u001b[0;34m(self, amount, asset_id, destination, gasless, skip_batching)\u001b[0m\n\u001b[1;32m    463\u001b[0m \u001b[38;5;28;01mif\u001b[39;00m \u001b[38;5;28misinstance\u001b[39m(amount, \u001b[38;5;28mfloat\u001b[39m \u001b[38;5;241m|\u001b[39m \u001b[38;5;28mint\u001b[39m \u001b[38;5;241m|\u001b[39m \u001b[38;5;28mstr\u001b[39m):\n\u001b[1;32m    464\u001b[0m     amount \u001b[38;5;241m=\u001b[39m Decimal(amount)\n\u001b[0;32m--> 466\u001b[0m \u001b[38;5;28;01mreturn\u001b[39;00m \u001b[38;5;28;43mself\u001b[39;49m\u001b[38;5;241;43m.\u001b[39;49m\u001b[43mdefault_address\u001b[49m\u001b[38;5;241;43m.\u001b[39;49m\u001b[43mtransfer\u001b[49m\u001b[43m(\u001b[49m\u001b[43mamount\u001b[49m\u001b[43m,\u001b[49m\u001b[43m \u001b[49m\u001b[43masset_id\u001b[49m\u001b[43m,\u001b[49m\u001b[43m \u001b[49m\u001b[43mdestination\u001b[49m\u001b[43m,\u001b[49m\u001b[43m \u001b[49m\u001b[43mgasless\u001b[49m\u001b[43m,\u001b[49m\u001b[43m \u001b[49m\u001b[43mskip_batching\u001b[49m\u001b[43m)\u001b[49m\n",
      "File \u001b[0;32m~/go/github.com/Fewsats/l402-python/venv/lib/python3.12/site-packages/cdp/wallet_address.py:122\u001b[0m, in \u001b[0;36mWalletAddress.transfer\u001b[0;34m(self, amount, asset_id, destination, gasless, skip_batching)\u001b[0m\n\u001b[1;32m    107\u001b[0m \u001b[38;5;250m\u001b[39m\u001b[38;5;124;03m\"\"\"Transfer funds from the wallet address.\u001b[39;00m\n\u001b[1;32m    108\u001b[0m \n\u001b[1;32m    109\u001b[0m \u001b[38;5;124;03mArgs:\u001b[39;00m\n\u001b[0;32m   (...)\u001b[0m\n\u001b[1;32m    118\u001b[0m \n\u001b[1;32m    119\u001b[0m \u001b[38;5;124;03m\"\"\"\u001b[39;00m\n\u001b[1;32m    120\u001b[0m normalized_amount \u001b[38;5;241m=\u001b[39m Decimal(amount)\n\u001b[0;32m--> 122\u001b[0m \u001b[38;5;28;43mself\u001b[39;49m\u001b[38;5;241;43m.\u001b[39;49m\u001b[43m_ensure_sufficient_balance\u001b[49m\u001b[43m(\u001b[49m\u001b[43mnormalized_amount\u001b[49m\u001b[43m,\u001b[49m\u001b[43m \u001b[49m\u001b[43masset_id\u001b[49m\u001b[43m)\u001b[49m\n\u001b[1;32m    124\u001b[0m transfer \u001b[38;5;241m=\u001b[39m Transfer\u001b[38;5;241m.\u001b[39mcreate(\n\u001b[1;32m    125\u001b[0m     address_id\u001b[38;5;241m=\u001b[39m\u001b[38;5;28mself\u001b[39m\u001b[38;5;241m.\u001b[39maddress_id,\n\u001b[1;32m    126\u001b[0m     amount\u001b[38;5;241m=\u001b[39mnormalized_amount,\n\u001b[0;32m   (...)\u001b[0m\n\u001b[1;32m    132\u001b[0m     skip_batching\u001b[38;5;241m=\u001b[39mskip_batching,\n\u001b[1;32m    133\u001b[0m )\n\u001b[1;32m    135\u001b[0m \u001b[38;5;28;01mif\u001b[39;00m Cdp\u001b[38;5;241m.\u001b[39muse_server_signer:\n",
      "File \u001b[0;32m~/go/github.com/Fewsats/l402-python/venv/lib/python3.12/site-packages/cdp/wallet_address.py:463\u001b[0m, in \u001b[0;36mWalletAddress._ensure_sufficient_balance\u001b[0;34m(self, amount, asset_id)\u001b[0m\n\u001b[1;32m    460\u001b[0m \u001b[38;5;28;01mif\u001b[39;00m amount \u001b[38;5;241m<\u001b[39m\u001b[38;5;241m=\u001b[39m current_balance:\n\u001b[1;32m    461\u001b[0m     \u001b[38;5;28;01mreturn\u001b[39;00m\n\u001b[0;32m--> 463\u001b[0m \u001b[38;5;28;01mraise\u001b[39;00m InsufficientFundsError(expected\u001b[38;5;241m=\u001b[39mamount, exact\u001b[38;5;241m=\u001b[39mcurrent_balance)\n",
      "\u001b[0;31mInsufficientFundsError\u001b[0m: Insufficient funds: have 0, need 1."
     ]
    }
   ],
   "source": [
    "w = create_test_wallet(fund=False)\n",
    "c = Client(onchain_provider=CoinbaseProvider(wallet=w, chain='base-sepolia', asset='usdc'))\n",
    "c.pay(o)\n"
   ]
  }
 ],
 "metadata": {
  "kernelspec": {
   "display_name": "venv",
   "language": "python",
   "name": "python3"
  },
  "language_info": {
   "codemirror_mode": {
    "name": "ipython",
    "version": 3
   },
   "file_extension": ".py",
   "mimetype": "text/x-python",
   "name": "python",
   "nbconvert_exporter": "python",
   "pygments_lexer": "ipython3",
   "version": "3.12.3"
  }
 },
 "nbformat": 4,
 "nbformat_minor": 2
}
