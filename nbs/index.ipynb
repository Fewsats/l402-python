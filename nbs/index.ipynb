{
 "cells": [
  {
   "cell_type": "code",
   "execution_count": 1,
   "metadata": {},
   "outputs": [],
   "source": [
    "#| hide\n",
    "from l402_python.core import *"
   ]
  },
  {
   "cell_type": "markdown",
   "metadata": {},
   "source": [
    "# l402-python\n",
    "\n",
    "> "
   ]
  },
  {
   "cell_type": "markdown",
   "metadata": {},
   "source": [
    "This file will become your README and also the index of your documentation."
   ]
  },
  {
   "cell_type": "markdown",
   "metadata": {},
   "source": [
    "## Developer Guide"
   ]
  },
  {
   "cell_type": "markdown",
   "metadata": {},
   "source": [
    "If you are new to using `nbdev` here are some useful pointers to get you started."
   ]
  },
  {
   "cell_type": "markdown",
   "metadata": {},
   "source": [
    "### Install l402_python in Development mode"
   ]
  },
  {
   "cell_type": "markdown",
   "metadata": {},
   "source": [
    "```sh\n",
    "# make sure l402_python package is installed in development mode\n",
    "$ pip install -e .\n",
    "\n",
    "# make changes under nbs/ directory\n",
    "# ...\n",
    "\n",
    "# compile to have changes apply to l402_python\n",
    "$ nbdev_prepare\n",
    "```"
   ]
  },
  {
   "cell_type": "markdown",
   "metadata": {},
   "source": [
    "## Usage"
   ]
  },
  {
   "cell_type": "markdown",
   "metadata": {},
   "source": [
    "### Installation"
   ]
  },
  {
   "cell_type": "markdown",
   "metadata": {},
   "source": [
    "Install latest from the GitHub [repository][repo]:\n",
    "\n",
    "```sh\n",
    "$ pip install git+https://github.com/Fewsats/l402-python.git\n",
    "```\n",
    "\n",
    "or from [conda][conda]\n",
    "\n",
    "```sh\n",
    "$ conda install -c Fewsats l402_python\n",
    "```\n",
    "\n",
    "or from [pypi][pypi]\n",
    "\n",
    "\n",
    "```sh\n",
    "$ pip install l402_python\n",
    "```\n",
    "\n",
    "\n",
    "[repo]: https://github.com/Fewsats/l402-python\n",
    "[docs]: https://Fewsats.github.io/l402-python/\n",
    "[pypi]: https://pypi.org/project/l402-python/\n",
    "[conda]: https://anaconda.org/Fewsats/l402-python"
   ]
  },
  {
   "cell_type": "markdown",
   "metadata": {},
   "source": [
    "### Documentation"
   ]
  },
  {
   "cell_type": "markdown",
   "metadata": {},
   "source": [
    "Documentation can be found hosted on this GitHub [repository][repo]'s [pages][docs]. Additionally you can find package manager specific guidelines on [conda][conda] and [pypi][pypi] respectively.\n",
    "\n",
    "[repo]: https://github.com/Fewsats/l402-python\n",
    "[docs]: https://Fewsats.github.io/l402-python/\n",
    "[pypi]: https://pypi.org/project/l402-python/\n",
    "[conda]: https://anaconda.org/Fewsats/l402-python"
   ]
  },
  {
   "cell_type": "markdown",
   "metadata": {},
   "source": [
    "## How to use"
   ]
  },
  {
   "cell_type": "markdown",
   "metadata": {},
   "source": [
    "Fill me in please! Don't forget code examples:"
   ]
  },
  {
   "cell_type": "code",
   "execution_count": 2,
   "metadata": {},
   "outputs": [],
   "source": [
    "#| hide\n",
    "import asyncio, socket, time\n",
    "from threading import Thread\n",
    "import uvicorn\n",
    "from fastapi.responses import JSONResponse\n",
    "from fastapi import Request\n"
   ]
  },
  {
   "cell_type": "code",
   "execution_count": 3,
   "metadata": {},
   "outputs": [],
   "source": [
    "\n",
    "def is_port_free(port, host='localhost'):\n",
    "    \"Check if port is available\"\n",
    "    sock = socket.socket(socket.AF_INET, socket.SOCK_STREAM)\n",
    "    try:\n",
    "        sock.bind((host, port))\n",
    "        return True\n",
    "    except OSError: return False\n",
    "    finally: sock.close()\n",
    "\n",
    "def wait_port_free(port, host='localhost', max_wait=3):\n",
    "    \"Wait for port to become available\"\n",
    "    start = time.time()\n",
    "    while not is_port_free(port):\n",
    "        if time.time() - start > max_wait: return False\n",
    "        time.sleep(0.1)\n",
    "    return True\n",
    "\n",
    "class ServerManager:\n",
    "    def __init__(self, app, port=8000, host='0.0.0.0'):\n",
    "        self.server = uvicorn.Server(uvicorn.Config(app, host=host, port=port, log_level=\"error\"))\n",
    "        \n",
    "    def start(self):\n",
    "        Thread(target=lambda: asyncio.run(self.server.serve()), daemon=True).start()\n",
    "        while not self.server.started: time.sleep(0.01)\n",
    "        return self\n",
    "        \n",
    "    def stop(self):\n",
    "        if self.server.started:\n",
    "            self.server.should_exit = True\n",
    "            wait_port_free(self.server.config.port)\n",
    "        return True"
   ]
  },
  {
   "cell_type": "code",
   "execution_count": 4,
   "metadata": {},
   "outputs": [],
   "source": [
    "from fastapi import FastAPI\n",
    "\n",
    "# Create FastAPI app\n",
    "app = FastAPI()\n",
    "\n",
    "# Add some test endpoint\n",
    "@app.get(\"/\")\n",
    "def read_root(request):\n",
    "    return {\"Hello\": \"World\"}\n",
    "\n",
    "server = ServerManager(app).start()"
   ]
  },
  {
   "cell_type": "code",
   "execution_count": 5,
   "metadata": {},
   "outputs": [],
   "source": [
    "class PaymentServer:\n",
    "    def __init__(self):\n",
    "        pass\n",
    "\n",
    "    def create_offers(self, offer_id, title, description, type, amount, currency, payment_methods):\n",
    "        payment_context_token = \"b79040aa-94cc-49e7-8894-c33a5699f5d1\"\n",
    "        payment_request_url = \"https://localhost:8000\"\n",
    "        return {\n",
    "            \"offers\": [{\n",
    "                \"amount\": 1,\n",
    "                \"balance\": 1,\n",
    "                \"currency\": \"USD\",\n",
    "                \"description\": \"Purchase 1 credit for API access\",\n",
    "                \"offer_id\": \"offer_c668e0c0\",\n",
    "                \"payment_methods\": [\"lightning\"],\n",
    "                \"title\": \"1 Credit Package\",\n",
    "                \"type\": \"top-up\"\n",
    "            }],\n",
    "            \"payment_context_token\": payment_context_token,\n",
    "            \"payment_request_url\": payment_request_url,\n",
    "            \"terms_url\": \"https://link-to-terms.com\",\n",
    "            \"version\": \"0.2.1\"\n",
    "        }\n",
    "    \n",
    "    def create_payment_request(self, offer_id, payment_context_token, payment_method):\n",
    "        expires_at = (datetime.utcnow() + timedelta(days=1)).isoformat() + \"+00:00\"\n",
    "        \n",
    "        # Example for Lightning payment\n",
    "        if payment_method == \"lightning\":\n",
    "            return {\n",
    "                \"expires_at\": expires_at,\n",
    "                \"offer_id\": \"offer_c668e0c0\",\n",
    "                \"payment_request\": {\n",
    "                    \"lightning_invoice\": \"lnbc100n1pnk0mkhpp59f0hhld9nu55u2w0hyczlvt00fa5xryrrgrs9qcrp32xznsh6cyqdq6xysyxun9v35hggzsv93kkct8v5cqzpgxqrzpnrzjqwghf7zxvfkxq5a6sr65g0gdkv768p83mhsnt0msszapamzx2qvuxqqqqz99gpz55yqqqqqqqqqqqqqq9qrzjq25carzepgd4vqsyn44jrk85ezrpju92xyrk9apw4cdjh6yrwt5jgqqqqz99gpz55yqqqqqqqqqqqqqq9qsp5ccrauz34377k9yttjqnt366efp6fz27wa47954dxmj0s769e9x6q9qxpqysgqg8fw4qsxe7qjjul2cmhxk54a4yqchg3lpr3tq73ta05wzm3xc96h3sxv9hvennyw2erzrfd92s47sqhencflnxtzxdtnn4n2gxrgsmcp02nv9e\"\n",
    "                },\n",
    "                \"version\": \"0.2.1\"\n",
    "            }\n",
    "        # Example for Stripe payment\n",
    "        elif payment_method == \"stripe\":\n",
    "            return {\n",
    "                \"expires_at\": expires_at,\n",
    "                \"offer_id\": \"offer_a896b13c\",\n",
    "                \"payment_request\": {\n",
    "                    \"checkout_url\": \"https://checkout.stripe.com/c/pay/cs_test_a1uDnMH9mY1gW1U3RUgkzNilQcY7CaQuo7vxOzbJH4yxY1SabXoGF6qQWo#fidkdWxOYHwnPyd1blpxYHZxWjA0S3VzXDdBbTFNVlJzfDVRT2pxd3AyandqTmAzSEdMYDZUa05yY1VKNWZOUXNVc09ITUdjUGNUUjB2TTVtUkBmVGxmSD1qN0JpZkBuTlMxNm1LcVFtdDVQNTVEc21jdWtoTCcpJ2N3amhWYHdzYHcnP3F3cGApJ2lkfGpwcVF8dWAnPyd2bGtiaWBabHFgaCcpJ2BrZGdpYFVpZGZgbWppYWB3dic%2FcXdwYHgl\"\n",
    "                },\n",
    "                \"version\": \"0.2.1\"\n",
    "            }\n",
    "        # Example for Coinbase payment\n",
    "        else:\n",
    "            return {\n",
    "                \"expires_at\": expires_at,\n",
    "                \"offer_id\": \"offer_c668e0c0\",\n",
    "                \"payment_request\": {\n",
    "                    \"checkout_url\": \"https://commerce.coinbase.com/pay/2a5d6d11-0797-494a-8058-d62efef7a6ef\",\n",
    "                    \"contract_addresses\": {\n",
    "                        \"1\": \"0x1FA57f879417e029Ef57D7Ce915b0aA56A507C31\",\n",
    "                        \"137\": \"0x288844216a63638381784E0C1081A3826fD5a2E4\",\n",
    "                        \"8453\": \"0x03059433BCdB6144624cC2443159D9445C32b7a8\"\n",
    "                    }\n",
    "                },\n",
    "                \"version\": \"0.2.1\"\n",
    "            }\n",
    "\n",
    "ps = PaymentServer()"
   ]
  },
  {
   "cell_type": "code",
   "execution_count": null,
   "metadata": {},
   "outputs": [],
   "source": [
    "class PaymentServer:\n",
    "    def __init__(self):\n",
    "        pass\n",
    "\n",
    "    def create_offers(self, offer_id, title, description, type, amount, currency, payment_methods):\n",
    "        payment_context_token = \"b79040aa-94cc-49e7-8894-c33a5699f5d1\"\n",
    "        payment_request_url = \"https://localhost:8000\"\n",
    "        return {\n",
    "            \"offers\": [{\n",
    "                \"amount\": 1,\n",
    "                \"balance\": 1,\n",
    "                \"currency\": \"USD\",\n",
    "                \"description\": \"Purchase 1 credit for API access\",\n",
    "                \"offer_id\": \"offer_c668e0c0\",\n",
    "                \"payment_methods\": [\"lightning\"],\n",
    "                \"title\": \"1 Credit Package\",\n",
    "                \"type\": \"top-up\"\n",
    "            }],\n",
    "            \"payment_context_token\": payment_context_token,\n",
    "            \"payment_request_url\": payment_request_url,\n",
    "            \"terms_url\": \"https://link-to-terms.com\",\n",
    "            \"version\": \"0.2.1\"\n",
    "        }\n",
    "    \n",
    "    def create_payment_request(self, offer_id, payment_context_token, payment_method, expires_at):\n",
    "        \n",
    "        # Example for Lightning payment\n",
    "        if payment_method == \"lightning\":\n",
    "            return {\n",
    "                \"expires_at\": expires_at,\n",
    "                \"offer_id\": \"offer_c668e0c0\",\n",
    "                \"payment_request\": {\n",
    "                    \"lightning_invoice\": \"lnbc100n1pnk0mkhpp59f0hhld9nu55u2w0hyczlvt00fa5xryrrgrs9qcrp32xznsh6cyqdq6xysyxun9v35hggzsv93kkct8v5cqzpgxqrzpnrzjqwghf7zxvfkxq5a6sr65g0gdkv768p83mhsnt0msszapamzx2qvuxqqqqz99gpz55yqqqqqqqqqqqqqq9qrzjq25carzepgd4vqsyn44jrk85ezrpju92xyrk9apw4cdjh6yrwt5jgqqqqz99gpz55yqqqqqqqqqqqqqq9qsp5ccrauz34377k9yttjqnt366efp6fz27wa47954dxmj0s769e9x6q9qxpqysgqg8fw4qsxe7qjjul2cmhxk54a4yqchg3lpr3tq73ta05wzm3xc96h3sxv9hvennyw2erzrfd92s47sqhencflnxtzxdtnn4n2gxrgsmcp02nv9e\"\n",
    "                },\n",
    "                \"version\": \"0.2.1\"\n",
    "            }\n",
    "        # Example for Stripe payment\n",
    "        elif payment_method == \"stripe\":\n",
    "            return {\n",
    "                \"expires_at\": expires_at,\n",
    "                \"offer_id\": \"offer_a896b13c\",\n",
    "                \"payment_request\": {\n",
    "                    \"checkout_url\": \"https://checkout.stripe.com/c/pay/cs_test_a1uDnMH9mY1gW1U3RUgkzNilQcY7CaQuo7vxOzbJH4yxY1SabXoGF6qQWo#fidkdWxOYHwnPyd1blpxYHZxWjA0S3VzXDdBbTFNVlJzfDVRT2pxd3AyandqTmAzSEdMYDZUa05yY1VKNWZOUXNVc09ITUdjUGNUUjB2TTVtUkBmVGxmSD1qN0JpZkBuTlMxNm1LcVFtdDVQNTVEc21jdWtoTCcpJ2N3amhWYHdzYHcnP3F3cGApJ2lkfGpwcVF8dWAnPyd2bGtiaWBabHFgaCcpJ2BrZGdpYFVpZGZgbWppYWB3dic%2FcXdwYHgl\"\n",
    "                },\n",
    "                \"version\": \"0.2.1\"\n",
    "            }\n",
    "        # Example for Coinbase payment\n",
    "        else:\n",
    "            return {\n",
    "                \"expires_at\": expires_at,\n",
    "                \"offer_id\": \"offer_c668e0c0\",\n",
    "                \"payment_request\": {\n",
    "                    \"checkout_url\": \"https://commerce.coinbase.com/pay/2a5d6d11-0797-494a-8058-d62efef7a6ef\",\n",
    "                    \"contract_addresses\": {\n",
    "                        \"1\": \"0x1FA57f879417e029Ef57D7Ce915b0aA56A507C31\",\n",
    "                        \"137\": \"0x288844216a63638381784E0C1081A3826fD5a2E4\",\n",
    "                        \"8453\": \"0x03059433BCdB6144624cC2443159D9445C32b7a8\"\n",
    "                    }\n",
    "                },\n",
    "                \"version\": \"0.2.1\"\n",
    "            }\n",
    "\n",
    "ps = PaymentServer()"
   ]
  },
  {
   "cell_type": "code",
   "execution_count": 6,
   "metadata": {},
   "outputs": [],
   "source": [
    "from pydantic import BaseModel\n",
    "from typing import List, Optional, Dict\n",
    "\n",
    "\n",
    "class OfferRequest(BaseModel):\n",
    "    offer_id: str\n",
    "    title: str\n",
    "    description: str\n",
    "    type: str\n",
    "    amount: float\n",
    "    currency: str\n",
    "    payment_methods: List[str]\n",
    "\n",
    "class Offer(BaseModel):\n",
    "    amount: int\n",
    "    balance: int\n",
    "    currency: str\n",
    "    description: str\n",
    "    offer_id: str\n",
    "    payment_methods: List[str]\n",
    "    title: str\n",
    "    type: str\n",
    "\n",
    "class OfferResponse(BaseModel):\n",
    "    offers: List[Offer]\n",
    "    payment_context_token: str\n",
    "    payment_request_url: str\n",
    "    terms_url: str\n",
    "    version: str\n",
    "\n",
    "@app.post(\"/offers\")\n",
    "def offers(request: OfferRequest):\n",
    "    offers = ps.create_offers(**request.model_dump())\n",
    "    return JSONResponse(\n",
    "        content=OfferResponse(**offers).model_dump(),\n",
    "        status_code=402\n",
    "    )"
   ]
  },
  {
   "cell_type": "code",
   "execution_count": 7,
   "metadata": {},
   "outputs": [],
   "source": [
    "class PaymentRequest(BaseModel):\n",
    "    offer_id: str\n",
    "    payment_context_token: str\n",
    "    payment_method: str\n",
    "    expires_at: str # ??\n",
    "    \n",
    "class PaymentMethodDetails(BaseModel):\n",
    "    lightning_invoice: Optional[str] = None\n",
    "    checkout_url: Optional[str] = None\n",
    "    contract_addresses: Optional[Dict[str, str]] = None\n",
    "\n",
    "class PaymentResponse(BaseModel):\n",
    "    expires_at: str\n",
    "    offer_id: str\n",
    "    payment_request: PaymentMethodDetails\n",
    "    version: str\n",
    "    \n",
    "\n",
    "@app.post(\"/payment_request\")\n",
    "async def create_payment_request(request: PaymentRequest):\n",
    "    payment_request = ps.create_payment_request(**request.model_dump())\n",
    "    return JSONResponse(\n",
    "        content=payment_request,\n",
    "        status_code=200\n",
    "    )\n"
   ]
  },
  {
   "cell_type": "code",
   "execution_count": 8,
   "metadata": {},
   "outputs": [
    {
     "data": {
      "text/plain": [
       "(<Response [402 Payment Required]>,\n",
       " {'offers': [{'amount': 1,\n",
       "    'balance': 1,\n",
       "    'currency': 'USD',\n",
       "    'description': 'Purchase 1 credit for API access',\n",
       "    'offer_id': 'offer_c668e0c0',\n",
       "    'payment_methods': ['lightning'],\n",
       "    'title': '1 Credit Package',\n",
       "    'type': 'top-up'}],\n",
       "  'payment_context_token': 'b79040aa-94cc-49e7-8894-c33a5699f5d1',\n",
       "  'payment_request_url': 'https://localhost:8000',\n",
       "  'terms_url': 'https://link-to-terms.com',\n",
       "  'version': '0.2.1'})"
      ]
     },
     "execution_count": 8,
     "metadata": {},
     "output_type": "execute_result"
    }
   ],
   "source": [
    "import httpx\n",
    "\n",
    "# Test offers endpoint\n",
    "offer_data = {\n",
    "    \"offer_id\": \"123\",\n",
    "    \"title\": \"Test Offer\",\n",
    "    \"description\": \"Test Description\",\n",
    "    \"type\": \"standard\",\n",
    "    \"amount\": 100.0,\n",
    "    \"currency\": \"USD\",\n",
    "    \"payment_methods\": [\"bitcoin\", \"lightning\"]\n",
    "}\n",
    "\n",
    "r1 = httpx.post(\"http://localhost:8000/offers\", json=offer_data)\n",
    "r1, r1.json()\n"
   ]
  },
  {
   "cell_type": "code",
   "execution_count": 9,
   "metadata": {},
   "outputs": [
    {
     "name": "stdout",
     "output_type": "stream",
     "text": [
      "Offers Response: 402\n",
      "{'offers': [{'amount': 1, 'balance': 1, 'currency': 'USD', 'description': 'Purchase 1 credit for API access', 'offer_id': 'offer_c668e0c0', 'payment_methods': ['lightning'], 'title': '1 Credit Package', 'type': 'top-up'}], 'payment_context_token': 'b79040aa-94cc-49e7-8894-c33a5699f5d1', 'payment_request_url': 'https://localhost:8000', 'terms_url': 'https://link-to-terms.com', 'version': '0.2.1'}\n",
      "Payment Response: 200\n",
      "None\n"
     ]
    }
   ],
   "source": [
    "print(f\"Offers Response: {r1.status_code}\")\n",
    "print(r1.json())\n",
    "\n",
    "# Test payment request endpoint\n",
    "payment_data = {\n",
    "    \"offer_id\": \"123\",\n",
    "    \"payment_context_token\": \"token123\",\n",
    "    \"payment_method\": \"lightning\"\n",
    "}\n",
    "\n",
    "r2 = httpx.post(\"http://localhost:8000/payment_request\", json=payment_data)\n",
    "print(f\"Payment Response: {r2.status_code}\")\n",
    "print(r2.json())"
   ]
  }
 ],
 "metadata": {
  "kernelspec": {
   "display_name": "Python 3 (ipykernel)",
   "language": "python",
   "name": "python3"
  },
  "language_info": {
   "codemirror_mode": {
    "name": "ipython",
    "version": 3
   },
   "file_extension": ".py",
   "mimetype": "text/x-python",
   "name": "python",
   "nbconvert_exporter": "python",
   "pygments_lexer": "ipython3",
   "version": "3.12.3"
  }
 },
 "nbformat": 4,
 "nbformat_minor": 4
}
