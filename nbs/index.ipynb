{
 "cells": [
  {
   "cell_type": "code",
   "execution_count": null,
   "metadata": {},
   "outputs": [],
   "source": [
    "#| hide\n",
    "from l402.payment_providers import *\n",
    "from l402.payment_clients import *\n",
    "from l402.utils import *"
   ]
  },
  {
   "cell_type": "markdown",
   "metadata": {},
   "source": [
    "# l402-python\n",
    "\n",
    "> "
   ]
  },
  {
   "cell_type": "markdown",
   "metadata": {},
   "source": [
    "## Usage"
   ]
  },
  {
   "cell_type": "markdown",
   "metadata": {},
   "source": [
    "### Installation"
   ]
  },
  {
   "cell_type": "markdown",
   "metadata": {},
   "source": [
    "Install latest from [pypi](https://pypi.org/project/l402/)\n",
    "\n",
    "```sh\n",
    "$ pip install l402\n",
    "```"
   ]
  },
  {
   "cell_type": "markdown",
   "metadata": {},
   "source": [
    "### Documentation"
   ]
  },
  {
   "cell_type": "markdown",
   "metadata": {},
   "source": [
    "Documentation can be found hosted on this GitHub [repository][repo]'s [pages][docs]. Additionally you can find package manager specific guidelines on [conda][conda] and [pypi][pypi] respectively.\n",
    "\n",
    "[repo]: https://github.com/Fewsats/l402-python\n",
    "[docs]: https://Fewsats.github.io/l402-python/\n",
    "[pypi]: https://pypi.org/project/l402-python/\n",
    "[conda]: https://anaconda.org/Fewsats/l402-python"
   ]
  },
  {
   "cell_type": "markdown",
   "metadata": {},
   "source": [
    "## How to use"
   ]
  },
  {
   "cell_type": "code",
   "execution_count": null,
   "metadata": {},
   "outputs": [],
   "source": [
    "#| hide\n",
    "from fastapi.responses import JSONResponse\n",
    "from http import HTTPStatus\n",
    "from cdp import *\n",
    "from fastapi import FastAPI\n",
    "from fastcore.all import first, dict2obj\n",
    "\n",
    "import httpx\n"
   ]
  },
  {
   "cell_type": "code",
   "execution_count": null,
   "metadata": {},
   "outputs": [
    {
     "name": "stderr",
     "output_type": "stream",
     "text": [
      "INFO:     Started server process [23855]\n",
      "INFO:     Waiting for application startup.\n",
      "INFO:     Application startup complete.\n",
      "INFO:     Uvicorn running on http://0.0.0.0:9000 (Press CTRL+C to quit)\n"
     ]
    }
   ],
   "source": [
    "# | hide\n",
    "# Create FastAPI app\n",
    "app = FastAPI()\n",
    "\n",
    "server = ServerManager(app, port=9000).start()"
   ]
  },
  {
   "cell_type": "code",
   "execution_count": null,
   "metadata": {},
   "outputs": [],
   "source": [
    "#| hide \n",
    "from uuid import uuid4\n",
    "import json\n",
    "import os"
   ]
  },
  {
   "cell_type": "code",
   "execution_count": null,
   "metadata": {},
   "outputs": [
    {
     "data": {
      "text/plain": [
       "Decimal('0')"
      ]
     },
     "execution_count": null,
     "metadata": {},
     "output_type": "execute_result"
    }
   ],
   "source": [
    "#| hide\n",
    "\n",
    "# w =create_test_wallet(fund=False, chain='base-mainnet')\n",
    "# import json\n",
    "# json.dump(w.export_data().to_dict(), open('index-seed.json', 'w'))\n",
    "# !cat index-seed.json\n",
    "Cdp.configure(api_key_name=os.getenv(\"CDP_KEY_NAME\"), private_key=os.getenv(\"CDP_PRIVATE_KEY\"))\n",
    "\n",
    "w = create_test_wallet(fund=False, chain='base-sepolia')\n",
    "# w = Wallet.import_data(WalletData.from_dict(json.load(open('index-seed.json'))))\n",
    "w.balance('usdc')"
   ]
  },
  {
   "cell_type": "code",
   "execution_count": null,
   "metadata": {},
   "outputs": [],
   "source": [
    "#| hide\n",
    "ps = PaymentServer(\n",
    "    payment_request_url=\"http://localhost:9000/payment_request\",\n",
    "    onchain_provider=w,\n",
    ")\n",
    "\n",
    "@app.get(\"/offers\")\n",
    "def offers():\n",
    "    offers_list = [Offer(\n",
    "        amount=1,\n",
    "        currency='USD',\n",
    "        description='Purchase 1 credit for API access',\n",
    "        offer_id=str(uuid4()),\n",
    "        payment_methods=['onchain'], # maybe not needed because we can generate it from the payment provider\n",
    "        title='1 Credit Package',\n",
    "        type='one-time'\n",
    "    )]\n",
    "\n",
    "    \n",
    "    offers_response = ps.create_offers(offers_list)\n",
    "    return JSONResponse(\n",
    "        content=offers_response.model_dump(),\n",
    "        status_code=402\n",
    "    )\n",
    "\n",
    "@app.post(\"/payment_request\")\n",
    "async def create_payment_request(request: PaymentRequest):\n",
    "    try:\n",
    "        payment_request = ps.create_payment_request(**request.model_dump())\n",
    "        return JSONResponse(\n",
    "            content=payment_request,\n",
    "            status_code=200\n",
    "        )\n",
    "    except Exception as e:\n",
    "        print(e)"
   ]
  },
  {
   "cell_type": "markdown",
   "metadata": {},
   "source": [
    "### Paying with the L402\n",
    "\n",
    "The L402 supports multiple payment providers. In this example we'll \n",
    "use a coinbase wallet as    an onchain provider. This wallet will be used \n",
    "to pay for L402 offers."
   ]
  },
  {
   "cell_type": "code",
   "execution_count": null,
   "metadata": {},
   "outputs": [],
   "source": [
    "from l402.payment_clients import Client, CoinbaseProvider\n",
    "from cdp import Wallet"
   ]
  },
  {
   "cell_type": "code",
   "execution_count": null,
   "metadata": {},
   "outputs": [],
   "source": [
    "# CDP can be directly used as an onchain provider.\n",
    "w = Wallet.create()\n",
    "\n",
    "c = Client(onchain_provider=CoinbaseProvider(wallet=w))"
   ]
  },
  {
   "cell_type": "markdown",
   "metadata": {},
   "source": [
    "Next we retrieve an offer from a demo server. This will return a 402 status code and a JSON response with the available offers."
   ]
  },
  {
   "cell_type": "code",
   "execution_count": null,
   "metadata": {},
   "outputs": [
    {
     "data": {
      "text/plain": [
       "(402,\n",
       " {'offers': [{'amount': 1,\n",
       "    'currency': 'USD',\n",
       "    'description': 'Purchase 1 credit for API access',\n",
       "    'offer_id': '58e1ee0a-e283-4f80-8a41-5c2f0ea138ca',\n",
       "    'payment_methods': ['onchain'],\n",
       "    'title': '1 Credit Package',\n",
       "    'type': 'one-time'}],\n",
       "  'payment_context_token': '42f46106-8989-4ed1-a770-adf9ad64c30b',\n",
       "  'payment_request_url': 'http://localhost:9000/payment_request',\n",
       "  'version': '0.2.2'})"
      ]
     },
     "execution_count": null,
     "metadata": {},
     "output_type": "execute_result"
    }
   ],
   "source": [
    "r1 = httpx.get(\"http://localhost:9000/offers\")\n",
    "r1.status_code, r1.json()"
   ]
  },
  {
   "cell_type": "code",
   "execution_count": null,
   "metadata": {},
   "outputs": [
    {
     "name": "stdout",
     "output_type": "stream",
     "text": [
      "Insufficient funds: have 0, need 1.\n"
     ]
    }
   ],
   "source": [
    "#| hide\n",
    "if r1.status_code == HTTPStatus.PAYMENT_REQUIRED:\n",
    "    try:\n",
    "        ps = c.pay(r1.json())\n",
    "    except Exception as e:\n",
    "        print(e)"
   ]
  },
  {
   "cell_type": "markdown",
   "metadata": {},
   "source": [
    "To pay, we just need to provide the L402 response to the client and it will automatically use configured payment provider that matches the payment method.\n",
    "\n",
    "```python\n",
    "if r1.status_code == HTTPStatus.PAYMENT_REQUIRED:\n",
    "    ps = c.pay(r1.json())\n",
    "```"
   ]
  },
  {
   "cell_type": "markdown",
   "metadata": {},
   "source": [
    "### Getting paid with the L402\n",
    "\n",
    "The L402 protocol implements a two-step payment flow:\n",
    "\n",
    "1. The server returns a `402 Payment Required` status code and information about the available offers.\n",
    "2. The client uses the L402 response to fetch the information for a specific payment method.\n",
    "\n",
    "In this example, we implement this using a server with two endpoints:\n",
    "\n",
    "1. `/offers` - Returns available payment options with 402 status\n",
    "2. `/payment_request` - Generates payment details for chosen payment method\n",
    "\n",
    "```python\n",
    "from l402.payment_providers import PaymentServer, Offer\n",
    "\n",
    "app = FastAPI()\n",
    "\n",
    "\n",
    "ps = PaymentServer(\n",
    "    payment_request_url=\"http://localhost:9000/payment_request\",\n",
    "    onchain_provider=w,\n",
    ")\n",
    "\n",
    "@app.get(\"/offers\")\n",
    "def offers():\n",
    "    offers_list = [Offer(\n",
    "        amount=1,\n",
    "        currency='USD',\n",
    "        description='Purchase 1 credit for API access',\n",
    "        offer_id=str(uuid4()),\n",
    "        payment_methods=['onchain'],\n",
    "        title='1 Credit Package',\n",
    "        type='one-time'\n",
    "    )]\n",
    "    \n",
    "    offers_response = ps.create_offers(offers_list)\n",
    "    # Return the status code 402 Payment Required with the offers\n",
    "    return JSONResponse(content=offers_response.model_dump(), status_code=402)\n",
    "\n",
    "@app.post(\"/payment_request\")\n",
    "async def create_payment_request(request: PaymentRequest):\n",
    "    payment_request = ps.create_payment_request(**request.model_dump())\n",
    "    return JSONResponse(content=payment_request)\n",
    "```\n",
    "\n"
   ]
  },
  {
   "cell_type": "code",
   "execution_count": null,
   "metadata": {},
   "outputs": [
    {
     "data": {
      "text/plain": [
       "(402,\n",
       " {'offers': [{'amount': 1,\n",
       "    'currency': 'USD',\n",
       "    'description': 'Purchase 1 credit for API access',\n",
       "    'offer_id': '1808e12c-1824-49d8-a348-278959f6008d',\n",
       "    'payment_methods': ['onchain'],\n",
       "    'title': '1 Credit Package',\n",
       "    'type': 'one-time'}],\n",
       "  'payment_context_token': '82dbf89a-b18f-4737-b350-c58731b1cc18',\n",
       "  'payment_request_url': 'http://localhost:9000/payment_request',\n",
       "  'version': '0.2.2'})"
      ]
     },
     "execution_count": null,
     "metadata": {},
     "output_type": "execute_result"
    }
   ],
   "source": [
    "r = httpx.get(\"http://localhost:9000/offers\")\n",
    "offers_data = r.json()\n",
    "r.status_code, offers_data"
   ]
  },
  {
   "cell_type": "markdown",
   "metadata": {},
   "source": [
    "The client can use this offer to request the information for a payment method. We have to choose the payment method and, in the case of coinbase, the chain and asset."
   ]
  },
  {
   "cell_type": "code",
   "execution_count": null,
   "metadata": {},
   "outputs": [
    {
     "data": {
      "text/plain": [
       "(<Response [200 OK]>,\n",
       " {'expires_at': '2025-01-30T21:03:46.502392+00:00',\n",
       "  'offer_id': '1808e12c-1824-49d8-a348-278959f6008d',\n",
       "  'payment_request': {'address': '0x6EC717D99534aF3917E25De1024f9e5BcDc1B262',\n",
       "   'chain': 'base-sepolia',\n",
       "   'asset': 'usdc'},\n",
       "  'version': '0.2.2'})"
      ]
     },
     "execution_count": null,
     "metadata": {},
     "output_type": "execute_result"
    }
   ],
   "source": [
    "offers_data = dict2obj(offers_data)\n",
    "data = {\n",
    "    \"offer_id\": offers_data.offers[0].offer_id, \n",
    "    \"payment_method\": 'onchain',\n",
    "    \"chain\": 'base-sepolia', # choose the chain where you want to pay\n",
    "    \"asset\": 'usdc', # choose the asset you want to pay\n",
    "    \"payment_context_token\": offers_data.payment_context_token \n",
    "}\n",
    "r = httpx.post(offers_data.payment_request_url, json=data)\n",
    "r, r.json()"
   ]
  }
 ],
 "metadata": {
  "kernelspec": {
   "display_name": "python3",
   "language": "python",
   "name": "python3"
  }
 },
 "nbformat": 4,
 "nbformat_minor": 4
}
