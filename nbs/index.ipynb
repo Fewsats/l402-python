{
 "cells": [
  {
   "cell_type": "code",
   "execution_count": 1,
   "metadata": {},
   "outputs": [],
   "source": [
    "#| hide\n",
    "from l402.core import *\n",
    "from l402.payment_providers import *\n",
    "from l402.utils import *"
   ]
  },
  {
   "cell_type": "markdown",
   "metadata": {},
   "source": [
    "# l402-python\n",
    "\n",
    "> "
   ]
  },
  {
   "cell_type": "markdown",
   "metadata": {},
   "source": [
    "## Usage"
   ]
  },
  {
   "cell_type": "markdown",
   "metadata": {},
   "source": [
    "### Installation"
   ]
  },
  {
   "cell_type": "markdown",
   "metadata": {},
   "source": [
    "Install latest from the GitHub [repository][repo]:\n",
    "\n",
    "```sh\n",
    "$ pip install git+https://github.com/Fewsats/l402-python.git\n",
    "```\n",
    "\n",
    "or from [pypi][pypi]\n",
    "\n",
    "\n",
    "```sh\n",
    "$ pip install l402_python\n",
    "```"
   ]
  },
  {
   "cell_type": "markdown",
   "metadata": {},
   "source": [
    "### Documentation"
   ]
  },
  {
   "cell_type": "markdown",
   "metadata": {},
   "source": [
    "Documentation can be found hosted on this GitHub [repository][repo]'s [pages][docs]. Additionally you can find package manager specific guidelines on [conda][conda] and [pypi][pypi] respectively.\n",
    "\n",
    "[repo]: https://github.com/Fewsats/l402-python\n",
    "[docs]: https://Fewsats.github.io/l402-python/\n",
    "[pypi]: https://pypi.org/project/l402-python/\n",
    "[conda]: https://anaconda.org/Fewsats/l402-python"
   ]
  },
  {
   "cell_type": "markdown",
   "metadata": {},
   "source": [
    "## How to use"
   ]
  },
  {
   "cell_type": "markdown",
   "metadata": {},
   "source": [
    "### Server"
   ]
  },
  {
   "cell_type": "code",
   "execution_count": 2,
   "metadata": {},
   "outputs": [],
   "source": [
    "#| hide\n",
    "from fastapi.responses import JSONResponse\n",
    "from http import HTTPStatus\n",
    "from cdp import *\n",
    "from fastapi import FastAPI\n",
    "\n",
    "import httpx\n"
   ]
  },
  {
   "cell_type": "code",
   "execution_count": 3,
   "metadata": {},
   "outputs": [
    {
     "name": "stderr",
     "output_type": "stream",
     "text": [
      "INFO:     Started server process [47447]\n",
      "INFO:     Waiting for application startup.\n",
      "INFO:     Application startup complete.\n",
      "INFO:     Uvicorn running on http://0.0.0.0:8000 (Press CTRL+C to quit)\n"
     ]
    }
   ],
   "source": [
    "# Create FastAPI app\n",
    "app = FastAPI()\n",
    "\n",
    "server = ServerManager(app).start()"
   ]
  },
  {
   "cell_type": "markdown",
   "metadata": {},
   "source": [
    "## Payment Server"
   ]
  },
  {
   "cell_type": "code",
   "execution_count": 4,
   "metadata": {},
   "outputs": [],
   "source": [
    "from uuid import uuid4"
   ]
  },
  {
   "cell_type": "code",
   "execution_count": 5,
   "metadata": {},
   "outputs": [],
   "source": [
    "ps = PaymentServer(\n",
    "    payment_request_url=\"http://localhost:8000/payment_request\",\n",
    "    onchain_provider=create_test_wallet(fund=False),\n",
    ")"
   ]
  },
  {
   "cell_type": "code",
   "execution_count": 6,
   "metadata": {},
   "outputs": [],
   "source": [
    "@app.get(\"/offers\")\n",
    "def offers():\n",
    "    offers_list = [Offer(\n",
    "        amount=1,\n",
    "        currency='USD',\n",
    "        description='Purchase 1 credit for API access',\n",
    "        offer_id=str(uuid4()),\n",
    "        payment_methods=['onchain'], # maybe not needed because we can generate it from the payment provider\n",
    "        title='1 Credit Package',\n",
    "        type='one-time'\n",
    "    )]\n",
    "\n",
    "    \n",
    "    offers_response = ps.create_offers(offers_list)\n",
    "    return JSONResponse(\n",
    "        content=offers_response.model_dump(),\n",
    "        status_code=402\n",
    "    )"
   ]
  },
  {
   "cell_type": "code",
   "execution_count": 7,
   "metadata": {},
   "outputs": [],
   "source": [
    "@app.post(\"/payment_request\")\n",
    "async def create_payment_request(request: PaymentRequest):\n",
    "    payment_request = ps.create_payment_request(**request.model_dump())\n",
    "    return JSONResponse(\n",
    "        content=payment_request,\n",
    "        status_code=200\n",
    "    )"
   ]
  },
  {
   "cell_type": "markdown",
   "metadata": {},
   "source": [
    "### Client"
   ]
  },
  {
   "cell_type": "code",
   "execution_count": 8,
   "metadata": {},
   "outputs": [],
   "source": [
    "w = create_test_wallet(fund=False)\n",
    "c = Client(onchain_provider=CoinbaseProvider(wallet=w))"
   ]
  },
  {
   "cell_type": "code",
   "execution_count": 9,
   "metadata": {},
   "outputs": [
    {
     "name": "stdout",
     "output_type": "stream",
     "text": [
      "INFO:     127.0.0.1:50799 - \"GET /offers HTTP/1.1\" 402 Payment Required\n",
      "INFO:     127.0.0.1:50800 - \"POST /payment_request HTTP/1.1\" 200 OK\n"
     ]
    },
    {
     "data": {
      "text/plain": [
       "(402,\n",
       " {'offers': [{'amount': 1,\n",
       "    'currency': 'USD',\n",
       "    'description': 'Purchase 1 credit for API access',\n",
       "    'offer_id': '3731f7ea-b00e-4389-9370-fd6acedffd0d',\n",
       "    'payment_methods': ['onchain'],\n",
       "    'title': '1 Credit Package',\n",
       "    'type': 'one-time'}],\n",
       "  'payment_context_token': '34b9a1f8-422b-44c2-8063-9109f5d42e17',\n",
       "  'payment_request_url': 'http://localhost:8000/payment_request',\n",
       "  'version': '0.2.2'})"
      ]
     },
     "execution_count": 9,
     "metadata": {},
     "output_type": "execute_result"
    }
   ],
   "source": [
    "r1 = httpx.get(\"http://localhost:8000/offers\")\n",
    "r1.status_code, r1.json()"
   ]
  },
  {
   "cell_type": "code",
   "execution_count": 10,
   "metadata": {},
   "outputs": [
    {
     "name": "stdout",
     "output_type": "stream",
     "text": [
      "Insufficient funds: have 0, need 1.\n"
     ]
    }
   ],
   "source": [
    "if r1.status_code == HTTPStatus.PAYMENT_REQUIRED:\n",
    "    try:\n",
    "        ps = c.pay(r1.json())\n",
    "    except Exception as e:\n",
    "        print(e)"
   ]
  }
 ],
 "metadata": {
  "kernelspec": {
   "display_name": "Python 3 (ipykernel)",
   "language": "python",
   "name": "python3"
  },
  "language_info": {
   "codemirror_mode": {
    "name": "ipython",
    "version": 3
   },
   "file_extension": ".py",
   "mimetype": "text/x-python",
   "name": "python",
   "nbconvert_exporter": "python",
   "pygments_lexer": "ipython3",
   "version": "3.12.3"
  }
 },
 "nbformat": 4,
 "nbformat_minor": 4
}
