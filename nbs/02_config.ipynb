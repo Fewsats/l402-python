{
 "cells": [
  {
   "cell_type": "code",
   "execution_count": 1,
   "id": "929f165e",
   "metadata": {},
   "outputs": [],
   "source": [
    "#|default_exp config"
   ]
  },
  {
   "cell_type": "markdown",
   "id": "8d5eaf1e",
   "metadata": {},
   "source": [
    "# L402 Configuration"
   ]
  },
  {
   "cell_type": "code",
   "execution_count": 2,
   "id": "9501ca27",
   "metadata": {},
   "outputs": [],
   "source": [
    "#| export\n",
    "from fastcore.all import *\n",
    "from fastcore.xdg import *"
   ]
  },
  {
   "cell_type": "code",
   "execution_count": 3,
   "id": "a3f34f9f",
   "metadata": {},
   "outputs": [],
   "source": [
    "#| export\n",
    "\n",
    "_l402_home_dir = 'l402' # sub-directory of xdg base dir\n",
    "_l402_db_name = 'l402.db'"
   ]
  },
  {
   "cell_type": "code",
   "execution_count": 4,
   "id": "9c132dc0",
   "metadata": {},
   "outputs": [],
   "source": [
    "#| export\n",
    "def _db_path(): \n",
    "    p =  xdg_config_home() / _l402_home_dir / _l402_db_name\n",
    "    p.parent.mkdir(exist_ok=True)\n",
    "    return p"
   ]
  },
  {
   "cell_type": "code",
   "execution_count": 5,
   "id": "bbf3100d",
   "metadata": {},
   "outputs": [
    {
     "data": {
      "text/plain": [
       "Path('/Users/pengren/.config/l402/l402.db')"
      ]
     },
     "execution_count": 5,
     "metadata": {},
     "output_type": "execute_result"
    }
   ],
   "source": [
    "_db_path()"
   ]
  },
  {
   "cell_type": "markdown",
   "id": "d5483a5d",
   "metadata": {},
   "source": [
    "## Constants"
   ]
  },
  {
   "cell_type": "code",
   "execution_count": null,
   "id": "7d476a39",
   "metadata": {},
   "outputs": [],
   "source": [
    "#| export\n",
    "\n",
    "L402_VERSION = '0.2.2'"
   ]
  }
 ],
 "metadata": {
  "kernelspec": {
   "display_name": "python3",
   "language": "python",
   "name": "python3"
  },
  "language_info": {
   "codemirror_mode": {
    "name": "ipython",
    "version": 3
   },
   "file_extension": ".py",
   "mimetype": "text/x-python",
   "name": "python",
   "nbconvert_exporter": "python",
   "pygments_lexer": "ipython3",
   "version": "3.12.3"
  }
 },
 "nbformat": 4,
 "nbformat_minor": 5
}
