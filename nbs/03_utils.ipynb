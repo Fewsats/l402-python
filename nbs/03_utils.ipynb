{
 "cells": [
  {
   "cell_type": "code",
   "execution_count": 1,
   "id": "929f165e",
   "metadata": {},
   "outputs": [],
   "source": [
    "#|default_exp utils\n",
    "from l402.payment_providers import *"
   ]
  },
  {
   "cell_type": "markdown",
   "id": "8d5eaf1e",
   "metadata": {},
   "source": [
    "# utils\n",
    "\n",
    "> Contains a mix of dev utilities like running FastAPI in a notebook or creating test wallets."
   ]
  },
  {
   "cell_type": "markdown",
   "id": "0b8cd945",
   "metadata": {},
   "source": [
    "## Onchain"
   ]
  },
  {
   "cell_type": "code",
   "execution_count": null,
   "id": "91d25b84",
   "metadata": {},
   "outputs": [],
   "source": [
    "#| export\n",
    "import os\n",
    "from cdp import *"
   ]
  },
  {
   "cell_type": "code",
   "execution_count": null,
   "id": "94fec703",
   "metadata": {},
   "outputs": [],
   "source": [
    "#| export\n",
    "\n",
    "def create_test_wallet(fund=True, chain='base-sepolia'):\n",
    "    Cdp.configure(api_key_name=os.getenv(\"CDP_KEY_NAME\"), private_key=os.getenv(\"CDP_PRIVATE_KEY\"))\n",
    "\n",
    "    wallet = Wallet.create(chain)\n",
    "    if fund:    \n",
    "        faucet_tx = wallet.faucet('usdc')\n",
    "        faucet_tx.wait()\n",
    "        faucet_tx = wallet.faucet('eth')\n",
    "        faucet_tx.wait()\n",
    "    return wallet"
   ]
  },
  {
   "cell_type": "markdown",
   "id": "58a6e68c",
   "metadata": {},
   "source": [
    "## Utilities to run FastAPI in a notebook"
   ]
  },
  {
   "cell_type": "code",
   "execution_count": null,
   "id": "410250f5",
   "metadata": {},
   "outputs": [],
   "source": [
    "#| export\n",
    "import asyncio, socket, time\n",
    "from threading import Thread\n",
    "import uvicorn"
   ]
  },
  {
   "cell_type": "code",
   "execution_count": null,
   "id": "6e160693",
   "metadata": {},
   "outputs": [],
   "source": [
    "#| export\n",
    "\n",
    "def is_port_free(port, host='localhost'):\n",
    "    sock = socket.socket(socket.AF_INET, socket.SOCK_STREAM)\n",
    "    try:\n",
    "        sock.bind((host, port))\n",
    "        return True\n",
    "    except OSError: return False\n",
    "    finally: sock.close()\n",
    "\n",
    "def wait_port_free(port, host='localhost', max_wait=3):\n",
    "    start = time.time()\n",
    "    while not is_port_free(port):\n",
    "        if time.time() - start > max_wait: return False\n",
    "        time.sleep(0.1)\n",
    "    return True\n",
    "\n",
    "class ServerManager:\n",
    "    def __init__(self, app, port=8000, host='0.0.0.0'):\n",
    "        self.server = uvicorn.Server(uvicorn.Config(app, host=host, port=port))\n",
    "        \n",
    "    def start(self):\n",
    "        Thread(target=lambda: asyncio.run(self.server.serve()), daemon=True).start()\n",
    "        while not self.server.started: time.sleep(0.01)\n",
    "        return self\n",
    "        \n",
    "    def stop(self):\n",
    "        if self.server.started:\n",
    "            self.server.should_exit = True\n",
    "            wait_port_free(self.server.config.port)\n",
    "        return True"
   ]
  },
  {
   "cell_type": "code",
   "execution_count": null,
   "id": "6ac16bc1",
   "metadata": {},
   "outputs": [],
   "source": [
    "#| export\n",
    "from fastapi import FastAPI\n",
    "from fastapi.responses import JSONResponse\n"
   ]
  },
  {
   "cell_type": "code",
   "execution_count": null,
   "id": "a2fe9622",
   "metadata": {},
   "outputs": [],
   "source": [
    "# #| export\n",
    "\n",
    "# def run_l402_server(PRClass, port=9000):\n",
    "#     app = FastAPI()\n",
    "\n",
    "#     server = ServerManager(app, port=port).start()\n",
    "\n",
    "#     @app.get(\"/offers\")\n",
    "#     def offers():\n",
    "#         offers_list = [{\n",
    "#             \"amount\": 1,\n",
    "#             \"currency\": 'USD',\n",
    "#             \"description\": 'Purchase 1 credit for API access',\n",
    "#             \"offer_id\": 'xxxx',\n",
    "#             \"payment_methods\": ['onchain'],\n",
    "#             \"title\": '1 Credit Package',\n",
    "#             type='one-time'\n",
    "#         )]\n",
    "\n",
    "        \n",
    "#         return JSONResponse(\n",
    "#             content=offers_response.model_dump(),\n",
    "#             status_code=402\n",
    "#         )\n",
    "\n",
    "#     @app.post(\"/payment_request\")\n",
    "#     async def create_payment_request(request: PRClass):\n",
    "#         payment_request = ps.create_payment_request(**request.model_dump())\n",
    "#         return JSONResponse(\n",
    "#             content=payment_request,\n",
    "#             status_code=200\n",
    "#         )"
   ]
  }
 ],
 "metadata": {
  "kernelspec": {
   "display_name": "python3",
   "language": "python",
   "name": "python3"
  },
  "language_info": {
   "codemirror_mode": {
    "name": "ipython",
    "version": 3
   },
   "file_extension": ".py",
   "mimetype": "text/x-python",
   "name": "python",
   "nbconvert_exporter": "python",
   "pygments_lexer": "ipython3",
   "version": "3.12.3"
  }
 },
 "nbformat": 4,
 "nbformat_minor": 5
}
